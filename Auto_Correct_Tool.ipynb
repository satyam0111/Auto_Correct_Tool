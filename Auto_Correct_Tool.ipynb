{
  "nbformat": 4,
  "nbformat_minor": 0,
  "metadata": {
    "colab": {
      "provenance": []
    },
    "kernelspec": {
      "name": "python3",
      "display_name": "Python 3"
    },
    "language_info": {
      "name": "python"
    }
  },
  "cells": [
    {
      "cell_type": "code",
      "source": [
        "import difflib\n",
        "\n",
        "# Load the English words dictionary into a list\n",
        "with open('words.txt', 'r') as file:\n",
        "    dictionary = set(file.read().splitlines())\n",
        "\n",
        "def correct_spelling(input_word):\n",
        "    closest_word = difflib.get_close_matches(input_word, dictionary, n=1, cutoff=0.7)\n",
        "    if closest_word:\n",
        "        return closest_word[0]\n",
        "    else:\n",
        "        return \"No suggestions found\"\n",
        "\n",
        "# Test the spelling correction\n",
        "if __name__ == \"__main__\":\n",
        "    while True:\n",
        "        input_word = input(\"Enter a word (type 'exit' to quit): \").lower()\n",
        "        if input_word == 'exit':\n",
        "            break\n",
        "        corrected_word = correct_spelling(input_word)\n",
        "        print(f\"Suggested word: {corrected_word}\")\n"
      ],
      "metadata": {
        "colab": {
          "base_uri": "https://localhost:8080/"
        },
        "id": "devI4AaY2xV7",
        "outputId": "b8239fa9-d405-4a0b-d3e1-21dfac6d1ecc"
      },
      "execution_count": 5,
      "outputs": [
        {
          "name": "stdout",
          "output_type": "stream",
          "text": [
            "Enter a word (type 'exit' to quit): Hell\n",
            "Suggested word: hell\n",
            "Enter a word (type 'exit' to quit): hel\n",
            "Suggested word: hel\n",
            "Enter a word (type 'exit' to quit): outo\n",
            "Suggested word: outgo\n",
            "Enter a word (type 'exit' to quit): Auti\n",
            "Suggested word: uti\n",
            "Enter a word (type 'exit' to quit): Auto\n",
            "Suggested word: auto\n",
            "Enter a word (type 'exit' to quit): outo\n",
            "Suggested word: outgo\n",
            "Enter a word (type 'exit' to quit): outi\n",
            "Suggested word: uti\n",
            "Enter a word (type 'exit' to quit): satya\n",
            "Suggested word: saya\n",
            "Enter a word (type 'exit' to quit): satyam\n",
            "Suggested word: stam\n",
            "Enter a word (type 'exit' to quit): englis\n",
            "Suggested word: english\n",
            "Enter a word (type 'exit' to quit): frech\n",
            "Suggested word: french\n",
            "Enter a word (type 'exit' to quit): exit\n"
          ]
        }
      ]
    }
  ]
}